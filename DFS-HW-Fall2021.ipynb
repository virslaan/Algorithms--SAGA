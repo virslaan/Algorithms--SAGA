{
 "cells": [
  {
   "cell_type": "markdown",
   "metadata": {},
   "source": [
    "# Connected Components\n",
    "\n",
    "The purpose of this assignment is to familiarize yourself with the handling of graph data structures. You will implement depth-first search for identifying the connected components of an undirected graph, implementing procedure Search as a subroutine along the way.\n",
    "\n",
    "You will use the [NetworkX](https://networkx.github.io/) Python package to represent and manipulate graphs. You should first familiarize yourself with its functionality by going through the brief [tutorial](http://networkx.github.io/documentation/networkx-1.9.1/tutorial/index.html). For this homework, you may only use the basic undirected graph methods listed [here](http://networkx.github.io/documentation/networkx-1.9.1/reference/classes.graph.html).\n",
    "\n",
    "As a use case, we will work with a dataset recording the interactions between characters in Homer's *Iliad*."
   ]
  },
  {
   "cell_type": "code",
   "execution_count": 1,
   "metadata": {},
   "outputs": [],
   "source": [
    "import networkx\n",
    "homer = open('homer.dat')"
   ]
  },
  {
   "cell_type": "markdown",
   "metadata": {},
   "source": [
    "The format of the data is straightforward. After some comment lines (beginning with \\*), the file lists a codename for each character (i.e., node of the graph), followed by a description. The file then lists the groups of characters that interact in each chapter, from which you will form the edges. For instance, the first line has the form:\n",
    "\n",
    "```1:CH,AG,ME,GS;AP,CH;HE,AC;AC,AG,CA;HE,AT;AT,AC;AT,OG;NE,AG,AC;CS,OD```\n",
    "\n",
    "This means that CH,AG,ME,GS interacted, so there are edges for all pairs of these nodes. Groups of characters that interacted are separated by semicolons. The lines start with chapter information of the form `1:` or `&:`, which can be ignored for this problem."
   ]
  },
  {
   "cell_type": "markdown",
   "metadata": {},
   "source": [
    "First implement a function to read in the nodes from the input file. You may implement any auxiliary functions as needed, and are encouraged to use small functions with specific purposes to keep your code readable. Any function you implement should be clearly commented."
   ]
  },
  {
   "cell_type": "markdown",
   "metadata": {},
   "source": [
    "Next implement a function to read in the edges from the input file."
   ]
  },
  {
   "cell_type": "code",
   "execution_count": 2,
   "metadata": {},
   "outputs": [],
   "source": [
    "def read_nodes(gfile):\n",
    "    \"\"\"Reads in the nodes of the graph from the input file.\n",
    "    Args:\n",
    "        gfile: A handle for the file containing the graph data, starting at the top.\n",
    "        \n",
    "    Returns:\n",
    "        A list of the nodes in the graph of the form:\n",
    "            ['CH', 'AG, 'ME', ...]\n",
    "    \"\"\"\n",
    "    # TODO: implement function:\n",
    "    my_list=[]\n",
    "    for line in gfile:\n",
    "        gfile.readline()\n",
    "        if line[2]==\" \":\n",
    "            my_list.append(line[0]+line[1])\n",
    "    print(my_list)\n",
    "    gfile.seek(0)\n",
    "    return my_list\n",
    "    pass"
   ]
  },
  {
   "cell_type": "code",
   "execution_count": 3,
   "metadata": {},
   "outputs": [
    {
     "name": "stdout",
     "output_type": "stream",
     "text": [
      "['AA', 'AC', 'AE', 'AG', 'AI', 'AL', 'AN', 'AP', 'AS', 'AU', 'AZ', 'BO', 'CA', 'CI', 'CM', 'CR', 'CT', 'DI', 'DN', 'DT', 'EB', 'EF', 'EN', 'EP', 'EU', 'FY', 'GR', 'HA', 'HC', 'HE', 'HM', 'HO', 'HR', 'IA', 'IR', 'LE', 'LY', 'ME', 'MO', 'MT', 'NE', 'NO', 'OC', 'OG', 'PA', 'PC', 'PE', 'PL', 'PO', 'PR', 'PT', 'PX', 'RH', 'RU', 'SE', 'SI', 'SP', 'TA', 'TH', 'TL', 'TR', 'TT', 'TY', 'XA', 'ZE', '01', '03', '05', '07', '09', '0B', '0D', '0F', '0H', '0J', '0L', '0N', '0P', '0R', '0T', '0V', '0X', '0Z', '11', '13', '15', '17', '19', '1B', '1D', '1F', '1H', '1J', '1L', '1N', '1P', '1R', '1T', '1V', '1X', '1Z', '21', '23', '25', '27', '29', '2B', '2D', '2F', '2H', '2J', '2L', '2N', '2P', '2R', '2T', '2V', '2X', '2Z', '31', '33', '35', '37', '39', '3B', '3D', '3F', '3H', '3J', '3L', '3N', '3P', '3R', '3T', '3V', '3X', '3Z', '41', '43', '45', '47', '49', '4B', '4F', '4H', '4J', '4L', '4N', '4P', '4R', '4T', '4V', '4X', '4Z', 'B0', 'D0', 'F0', 'H0', 'J0', 'L0', 'N0', 'P0', 'R0', 'T0', 'V0', 'X0', 'Z0', 'B1', 'D1', 'F1', 'H1', 'J1', 'L1', 'N1', 'P1', 'R1', 'T1', 'V1', 'X1', 'Z1', 'B2', 'D2', 'F2', 'H2', 'J2', 'L2', 'N2', 'P2', 'R2', 'T2', 'V2', 'X2', '52', '54', '56', '58', '5A', '5C', '5E', '5G', '5I', '5K', '5M', '5O', '5Q', '5S', '5U', '5W', '5Y', '60', '62', '64', '66', '68', '6A', '6C', '6E', '6G', '6I', '6K', '6M', '6O', '6Q', '6S', '6U', '6W', '6Y', '70', '72', '74', '76', '78', '7A', '7C', '7E', '7G', '7I', '7K', '7M', '7O', '7Q', '7S', '7U', '7W', '7Y', '80', '82', '84', '86', '88', '8A', '8C', '8E', '8G', '8I', '8K', '8M', '8O', '8Q', '8T', '8V', '8X', '8Z', '91', '93', '95', '97', '99', '9B', '9D', '9F', '9H', '9J', '9L', '9N', '9P', '9R', '9T', '9V', '9X', '9Z']\n"
     ]
    },
    {
     "data": {
      "text/plain": [
       "['AA',\n",
       " 'AC',\n",
       " 'AE',\n",
       " 'AG',\n",
       " 'AI',\n",
       " 'AL',\n",
       " 'AN',\n",
       " 'AP',\n",
       " 'AS',\n",
       " 'AU',\n",
       " 'AZ',\n",
       " 'BO',\n",
       " 'CA',\n",
       " 'CI',\n",
       " 'CM',\n",
       " 'CR',\n",
       " 'CT',\n",
       " 'DI',\n",
       " 'DN',\n",
       " 'DT',\n",
       " 'EB',\n",
       " 'EF',\n",
       " 'EN',\n",
       " 'EP',\n",
       " 'EU',\n",
       " 'FY',\n",
       " 'GR',\n",
       " 'HA',\n",
       " 'HC',\n",
       " 'HE',\n",
       " 'HM',\n",
       " 'HO',\n",
       " 'HR',\n",
       " 'IA',\n",
       " 'IR',\n",
       " 'LE',\n",
       " 'LY',\n",
       " 'ME',\n",
       " 'MO',\n",
       " 'MT',\n",
       " 'NE',\n",
       " 'NO',\n",
       " 'OC',\n",
       " 'OG',\n",
       " 'PA',\n",
       " 'PC',\n",
       " 'PE',\n",
       " 'PL',\n",
       " 'PO',\n",
       " 'PR',\n",
       " 'PT',\n",
       " 'PX',\n",
       " 'RH',\n",
       " 'RU',\n",
       " 'SE',\n",
       " 'SI',\n",
       " 'SP',\n",
       " 'TA',\n",
       " 'TH',\n",
       " 'TL',\n",
       " 'TR',\n",
       " 'TT',\n",
       " 'TY',\n",
       " 'XA',\n",
       " 'ZE',\n",
       " '01',\n",
       " '03',\n",
       " '05',\n",
       " '07',\n",
       " '09',\n",
       " '0B',\n",
       " '0D',\n",
       " '0F',\n",
       " '0H',\n",
       " '0J',\n",
       " '0L',\n",
       " '0N',\n",
       " '0P',\n",
       " '0R',\n",
       " '0T',\n",
       " '0V',\n",
       " '0X',\n",
       " '0Z',\n",
       " '11',\n",
       " '13',\n",
       " '15',\n",
       " '17',\n",
       " '19',\n",
       " '1B',\n",
       " '1D',\n",
       " '1F',\n",
       " '1H',\n",
       " '1J',\n",
       " '1L',\n",
       " '1N',\n",
       " '1P',\n",
       " '1R',\n",
       " '1T',\n",
       " '1V',\n",
       " '1X',\n",
       " '1Z',\n",
       " '21',\n",
       " '23',\n",
       " '25',\n",
       " '27',\n",
       " '29',\n",
       " '2B',\n",
       " '2D',\n",
       " '2F',\n",
       " '2H',\n",
       " '2J',\n",
       " '2L',\n",
       " '2N',\n",
       " '2P',\n",
       " '2R',\n",
       " '2T',\n",
       " '2V',\n",
       " '2X',\n",
       " '2Z',\n",
       " '31',\n",
       " '33',\n",
       " '35',\n",
       " '37',\n",
       " '39',\n",
       " '3B',\n",
       " '3D',\n",
       " '3F',\n",
       " '3H',\n",
       " '3J',\n",
       " '3L',\n",
       " '3N',\n",
       " '3P',\n",
       " '3R',\n",
       " '3T',\n",
       " '3V',\n",
       " '3X',\n",
       " '3Z',\n",
       " '41',\n",
       " '43',\n",
       " '45',\n",
       " '47',\n",
       " '49',\n",
       " '4B',\n",
       " '4F',\n",
       " '4H',\n",
       " '4J',\n",
       " '4L',\n",
       " '4N',\n",
       " '4P',\n",
       " '4R',\n",
       " '4T',\n",
       " '4V',\n",
       " '4X',\n",
       " '4Z',\n",
       " 'B0',\n",
       " 'D0',\n",
       " 'F0',\n",
       " 'H0',\n",
       " 'J0',\n",
       " 'L0',\n",
       " 'N0',\n",
       " 'P0',\n",
       " 'R0',\n",
       " 'T0',\n",
       " 'V0',\n",
       " 'X0',\n",
       " 'Z0',\n",
       " 'B1',\n",
       " 'D1',\n",
       " 'F1',\n",
       " 'H1',\n",
       " 'J1',\n",
       " 'L1',\n",
       " 'N1',\n",
       " 'P1',\n",
       " 'R1',\n",
       " 'T1',\n",
       " 'V1',\n",
       " 'X1',\n",
       " 'Z1',\n",
       " 'B2',\n",
       " 'D2',\n",
       " 'F2',\n",
       " 'H2',\n",
       " 'J2',\n",
       " 'L2',\n",
       " 'N2',\n",
       " 'P2',\n",
       " 'R2',\n",
       " 'T2',\n",
       " 'V2',\n",
       " 'X2',\n",
       " '52',\n",
       " '54',\n",
       " '56',\n",
       " '58',\n",
       " '5A',\n",
       " '5C',\n",
       " '5E',\n",
       " '5G',\n",
       " '5I',\n",
       " '5K',\n",
       " '5M',\n",
       " '5O',\n",
       " '5Q',\n",
       " '5S',\n",
       " '5U',\n",
       " '5W',\n",
       " '5Y',\n",
       " '60',\n",
       " '62',\n",
       " '64',\n",
       " '66',\n",
       " '68',\n",
       " '6A',\n",
       " '6C',\n",
       " '6E',\n",
       " '6G',\n",
       " '6I',\n",
       " '6K',\n",
       " '6M',\n",
       " '6O',\n",
       " '6Q',\n",
       " '6S',\n",
       " '6U',\n",
       " '6W',\n",
       " '6Y',\n",
       " '70',\n",
       " '72',\n",
       " '74',\n",
       " '76',\n",
       " '78',\n",
       " '7A',\n",
       " '7C',\n",
       " '7E',\n",
       " '7G',\n",
       " '7I',\n",
       " '7K',\n",
       " '7M',\n",
       " '7O',\n",
       " '7Q',\n",
       " '7S',\n",
       " '7U',\n",
       " '7W',\n",
       " '7Y',\n",
       " '80',\n",
       " '82',\n",
       " '84',\n",
       " '86',\n",
       " '88',\n",
       " '8A',\n",
       " '8C',\n",
       " '8E',\n",
       " '8G',\n",
       " '8I',\n",
       " '8K',\n",
       " '8M',\n",
       " '8O',\n",
       " '8Q',\n",
       " '8T',\n",
       " '8V',\n",
       " '8X',\n",
       " '8Z',\n",
       " '91',\n",
       " '93',\n",
       " '95',\n",
       " '97',\n",
       " '99',\n",
       " '9B',\n",
       " '9D',\n",
       " '9F',\n",
       " '9H',\n",
       " '9J',\n",
       " '9L',\n",
       " '9N',\n",
       " '9P',\n",
       " '9R',\n",
       " '9T',\n",
       " '9V',\n",
       " '9X',\n",
       " '9Z']"
      ]
     },
     "execution_count": 3,
     "metadata": {},
     "output_type": "execute_result"
    }
   ],
   "source": [
    "read_nodes(homer)"
   ]
  },
  {
   "cell_type": "code",
   "execution_count": 10,
   "metadata": {},
   "outputs": [],
   "source": [
    "def read_edges(gfile):\n",
    "\n",
    "    \"\"\"Reads in the edges of the graph from the input file.\n",
    "    \n",
    "    Args:\n",
    "        gfile: A handle for the file containing the graph data, starting at the top \n",
    "            of the edges section.\n",
    "            \n",
    "    Returns:\n",
    "        The edges in the graph as a list of pairs of the form:\n",
    "            [('CH', 'AG'), ('AG', 'ME'), ...]\n",
    "    \"\"\"\n",
    "    # TODO: implement function\n",
    "    gfile.seek(0)
    edges_list=[]
    for line in gfile.readlines():
        line = line.replace('\n', '')
        if len(line) > 1:
            if ':' in line:
                i = line.index(':')
                line = line[(i+1):]
                nodes = line.split(';')
                for nodes1 in nodes:
                    nodes1 = nodes1.split(',')
                    for i1 in range(len(nodes1)-1):
                        for i2 in range(i1+1, len(nodes1)):
                            pair = (nodes1[i1], nodes1[i2])
                            edges_list.append(pair)
    return edges_list
    "    pass"
   ]
  },
  {
   "cell_type": "code",
   "execution_count": 8,
   "metadata": {},
   "outputs": [
    {
     "name": "stdout",
     "output_type": "stream",
     "text": [
      "CH,AG,ME,GS;AP,CH;HE,AC;AC,AG,CA;HE,AT;AT,AC;AT,OG;NE,AG,AC;CS,OD\n"
     ]
    },
    {
     "ename": "AttributeError",
     "evalue": "'list' object has no attribute 'split'",
     "output_type": "error",
     "traceback": [
      "\u001b[0;31m---------------------------------------------------------------------------\u001b[0m",
      "\u001b[0;31mAttributeError\u001b[0m                            Traceback (most recent call last)",
      "\u001b[0;32m<ipython-input-8-1b0e27c58849>\u001b[0m in \u001b[0;36m<module>\u001b[0;34m\u001b[0m\n\u001b[0;32m----> 1\u001b[0;31m \u001b[0mx\u001b[0m\u001b[0;34m=\u001b[0m\u001b[0mread_edges\u001b[0m\u001b[0;34m(\u001b[0m\u001b[0mhomer\u001b[0m\u001b[0;34m)\u001b[0m\u001b[0;34m\u001b[0m\u001b[0;34m\u001b[0m\u001b[0m\n\u001b[0m\u001b[1;32m      2\u001b[0m \u001b[0mlen\u001b[0m\u001b[0;34m(\u001b[0m\u001b[0mx\u001b[0m\u001b[0;34m)\u001b[0m\u001b[0;34m\u001b[0m\u001b[0;34m\u001b[0m\u001b[0m\n",
      "\u001b[0;32m<ipython-input-7-c41183f209f4>\u001b[0m in \u001b[0;36mread_edges\u001b[0;34m(gfile)\u001b[0m\n\u001b[1;32m     23\u001b[0m                 \u001b[0mnodes\u001b[0m \u001b[0;34m=\u001b[0m  \u001b[0mline\u001b[0m\u001b[0;34m.\u001b[0m\u001b[0msplit\u001b[0m\u001b[0;34m(\u001b[0m\u001b[0;34m\";\"\u001b[0m\u001b[0;34m)\u001b[0m\u001b[0;34m\u001b[0m\u001b[0;34m\u001b[0m\u001b[0m\n\u001b[1;32m     24\u001b[0m                 \u001b[0;32mfor\u001b[0m \u001b[0mactive\u001b[0m \u001b[0;32min\u001b[0m \u001b[0mnodes\u001b[0m\u001b[0;34m:\u001b[0m\u001b[0;34m\u001b[0m\u001b[0;34m\u001b[0m\u001b[0m\n\u001b[0;32m---> 25\u001b[0;31m                     \u001b[0mactive\u001b[0m \u001b[0;34m=\u001b[0m \u001b[0mnodes\u001b[0m\u001b[0;34m.\u001b[0m\u001b[0msplit\u001b[0m\u001b[0;34m(\u001b[0m\u001b[0;34m\",\"\u001b[0m\u001b[0;34m)\u001b[0m\u001b[0;34m\u001b[0m\u001b[0;34m\u001b[0m\u001b[0m\n\u001b[0m\u001b[1;32m     26\u001b[0m                     \u001b[0;32mfor\u001b[0m \u001b[0mactive_nodes\u001b[0m \u001b[0;32min\u001b[0m \u001b[0mrange\u001b[0m \u001b[0;34m(\u001b[0m\u001b[0mlen\u001b[0m\u001b[0;34m(\u001b[0m\u001b[0mactive\u001b[0m\u001b[0;34m)\u001b[0m\u001b[0;34m-\u001b[0m\u001b[0;36m1\u001b[0m\u001b[0;34m)\u001b[0m\u001b[0;34m:\u001b[0m\u001b[0;34m\u001b[0m\u001b[0;34m\u001b[0m\u001b[0m\n\u001b[1;32m     27\u001b[0m                         \u001b[0;32mfor\u001b[0m \u001b[0mk\u001b[0m \u001b[0;32min\u001b[0m \u001b[0mrange\u001b[0m\u001b[0;34m(\u001b[0m\u001b[0mactive_nodes\u001b[0m\u001b[0;34m+\u001b[0m\u001b[0;36m1\u001b[0m\u001b[0;34m,\u001b[0m\u001b[0mlen\u001b[0m\u001b[0;34m(\u001b[0m\u001b[0mactive\u001b[0m\u001b[0;34m)\u001b[0m\u001b[0;34m)\u001b[0m\u001b[0;34m:\u001b[0m\u001b[0;34m\u001b[0m\u001b[0;34m\u001b[0m\u001b[0m\n",
      "\u001b[0;31mAttributeError\u001b[0m: 'list' object has no attribute 'split'"
     ]
    }
   ],
   "source": [
    "x=read_edges(homer)\n",
    "len(x)"
   ]
  },
  {
   "cell_type": "markdown",
   "metadata": {},
   "source": [
    "The following code should now correctly create the graph."
   ]
  },
  {
   "cell_type": "code",
   "execution_count": null,
   "metadata": {
    "scrolled": true
   },
   "outputs": [],
   "source": [
    "import networkx as nx\n",
    "G = nx.Graph()\n",
    "\n",
    "G.add_nodes_from(read_nodes(homer))\n",
    "G.add_edges_from(read_edges(homer))\n",
    "#Some Functionalities of Graph\n",
    "\"\"\"\n",
    "\n",
    "[n for n in G]-->Iterate over Graph Nodes\n",
    "len(G)--->Number of Nodes in Graph\n",
    "G.has_edge(\"CH\", \"AG\")---->Check if there is a node-node connection or not\n",
    "\"\"\""
   ]
  },
  {
   "cell_type": "markdown",
   "metadata": {},
   "source": [
    "Next implement procedure Search. The function takes in a graph and a root node, and returns a list of the nodes visited during the search. The nodes should appear in the order in which they were *first visited*. The neighbors of a node should be processed in *alphabetical order*, where numbers come before letters. This will ensure that the output of your function is uniquely defined, given any input node."
   ]
  },
  {
   "cell_type": "code",
   "execution_count": null,
   "metadata": {},
   "outputs": [],
   "source": [
    "\n",
    "def Search(graph, root):\n",
    "    \"\"\"Runs Search from vertex root in a graph. Neighboring nodes are processed in alphabetical order.\n",
    "    \n",
    "    Args:\n",
    "        graph: the given graph, with nodes encoded as strings.\n",
    "        root: the node from which to start the search.\n",
    "        \n",
    "    Returns:\n",
    "        A list of nodes in the order in which they were first visited.\n",
    "    \"\"\"\n",
    "    # TODO: implement function\n",
    "    visited=[]\n",
    "    \n",
    "    \n",
    "    def Search_1(graph,root,visited):\n",
    "        \n",
    "        \n",
    "        if root not in visited:\n",
    "            visited.append(root)\n",
    "            #print(path)\n",
    "            for i in sorted(graph.neighbors(root)):\n",
    "                Search_1(graph,i,visited)\n",
    "        \n",
    "        return visited\n",
    "   \n",
    "    temp = Search_1(graph, root, visited)\n",
    "    return temp"
   ]
  },
  {
   "cell_type": "code",
   "execution_count": null,
   "metadata": {},
   "outputs": [],
   "source": [
    "Search(G,'OD')"
   ]
  },
  {
   "cell_type": "markdown",
   "metadata": {},
   "source": [
    "We will check the correctness of your code by verifying that it correctly computes the connected component of node Ulysses (node `OD`)."
   ]
  },
  {
   "cell_type": "code",
   "execution_count": null,
   "metadata": {},
   "outputs": [],
   "source": [
    "ulysses = Search(G, 'OD')"
   ]
  },
  {
   "cell_type": "code",
   "execution_count": null,
   "metadata": {},
   "outputs": [],
   "source": [
    "ulysses[130]"
   ]
  },
  {
   "cell_type": "markdown",
   "metadata": {},
   "source": [
    "Next implement DFS to find the connected components of the character graph. When choosing roots for your components, always pick the *smallest unvisited node* according to alphabetical ordering. Combined with your Search routine, this will ensure that the output is again uniquely defined."
   ]
  },
  {
   "cell_type": "code",
   "execution_count": null,
   "metadata": {},
   "outputs": [],
   "source": [
    "def connected_components(graph):\n",
    "    \"\"\"Computes the connected components of the given graph.\n",
    "    \n",
    "    Args: \n",
    "        graph: the given graph, with nodes encoded as strings.\n",
    "        \n",
    "    Returns:\n",
    "        The connected components of the graph. Components are listed in\n",
    "        alphabetical order of their root nodes.\n",
    "    \"\"\"\n",
    "    # TODO: implement function\n",
    "    \n",
    "    root_components=[]\n",
    "    list_of_nodes=sorted(graph.nodes())\n",
    "    while(len(graph.nodes())>0):\n",
    "        list_of_nodes=sorted(graph.nodes())\n",
    "        root=list_of_nodes[0]\n",
    "        component=Search(graph,root)\n",
    "        root_components.append(component)\n",
    "        graph.remove_nodes_from(component)\n",
    "        \n",
    "        \n",
    "    return sorted(root_components)\n",
    "    pass"
   ]
  },
  {
   "cell_type": "code",
   "execution_count": null,
   "metadata": {},
   "outputs": [],
   "source": [
    "connected_components(G)"
   ]
  },
  {
   "cell_type": "markdown",
   "metadata": {},
   "source": [
    "We will check correctness of your code by verifying that your output is identical to our solution."
   ]
  },
  {
   "cell_type": "code",
   "execution_count": null,
   "metadata": {},
   "outputs": [],
   "source": [
    "character_interactions = connected_components(G)\n",
    "\n"
   ]
  },
  {
   "cell_type": "markdown",
   "metadata": {},
   "source": [
    "As a preliminary check, you should find that the following statements are all true."
   ]
  },
  {
   "cell_type": "code",
   "execution_count": null,
   "metadata": {},
   "outputs": [],
   "source": [
    "component_sizes = [len(c) for c in character_interactions]\n",
    "print(\"There are 12 connected components in the Iliad:{}\".format(len(component_sizes) == 12))\n",
    "print(\"The giant component has size 542:{}\".format(max(component_sizes) == 542))\n",
    "print(\"There are 5 isolated characters:{}\".format(len([c for c in component_sizes if c == 1]) == 5))"
   ]
  },
  {
   "cell_type": "code",
   "execution_count": null,
   "metadata": {},
   "outputs": [],
   "source": []
  },
  {
   "cell_type": "code",
   "execution_count": null,
   "metadata": {},
   "outputs": [],
   "source": []
  },
  {
   "cell_type": "code",
   "execution_count": null,
   "metadata": {},
   "outputs": [],
   "source": []
  }
 ],
 "metadata": {
  "kernelspec": {
   "display_name": "Python 3",
   "language": "python",
   "name": "python3"
  },
  "language_info": {
   "codemirror_mode": {
    "name": "ipython",
    "version": 3
   },
   "file_extension": ".py",
   "mimetype": "text/x-python",
   "name": "python",
   "nbconvert_exporter": "python",
   "pygments_lexer": "ipython3",
   "version": "3.8.8"
  }
 },
 "nbformat": 4,
 "nbformat_minor": 1
}
